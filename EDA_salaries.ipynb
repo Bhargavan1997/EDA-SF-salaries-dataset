{
 "cells": [
  {
   "cell_type": "code",
   "execution_count": 1,
   "metadata": {},
   "outputs": [],
   "source": [
    "#import necessary libraries\n",
    "\n",
    "import pandas as pd\n",
    "import matplotlib.pyplot as plt\n",
    "import seaborn as sns"
   ]
  },
  {
   "cell_type": "code",
   "execution_count": 2,
   "metadata": {},
   "outputs": [],
   "source": [
    "# read the data file\n",
    "sal_df = sal_df = pd.read_csv(r'C:\\Users\\Narasimhan\\Downloads\\SF_salary_data_gender.csv',low_memory=False)"
   ]
  },
  {
   "cell_type": "code",
   "execution_count": 3,
   "metadata": {},
   "outputs": [
    {
     "data": {
      "text/html": [
       "<div>\n",
       "<style scoped>\n",
       "    .dataframe tbody tr th:only-of-type {\n",
       "        vertical-align: middle;\n",
       "    }\n",
       "\n",
       "    .dataframe tbody tr th {\n",
       "        vertical-align: top;\n",
       "    }\n",
       "\n",
       "    .dataframe thead th {\n",
       "        text-align: right;\n",
       "    }\n",
       "</style>\n",
       "<table border=\"1\" class=\"dataframe\">\n",
       "  <thead>\n",
       "    <tr style=\"text-align: right;\">\n",
       "      <th></th>\n",
       "      <th>Unnamed: 0</th>\n",
       "      <th>Id</th>\n",
       "      <th>Employee Name</th>\n",
       "      <th>JobTitle</th>\n",
       "      <th>BasePay</th>\n",
       "      <th>OvertimePay</th>\n",
       "      <th>OtherPay</th>\n",
       "      <th>Benefits</th>\n",
       "      <th>TotalPay</th>\n",
       "      <th>TotalPayBenefits</th>\n",
       "      <th>Year</th>\n",
       "      <th>Notes</th>\n",
       "      <th>Agency</th>\n",
       "      <th>Status</th>\n",
       "      <th>gender</th>\n",
       "    </tr>\n",
       "  </thead>\n",
       "  <tbody>\n",
       "    <tr>\n",
       "      <td>0</td>\n",
       "      <td>0</td>\n",
       "      <td>1</td>\n",
       "      <td>nathaniel ford</td>\n",
       "      <td>general manager-metropolitan transit authority</td>\n",
       "      <td>167411.18</td>\n",
       "      <td>0</td>\n",
       "      <td>400184.25</td>\n",
       "      <td>NaN</td>\n",
       "      <td>567595.43</td>\n",
       "      <td>567595.43</td>\n",
       "      <td>2011</td>\n",
       "      <td>NaN</td>\n",
       "      <td>San Francisco</td>\n",
       "      <td>NaN</td>\n",
       "      <td>m</td>\n",
       "    </tr>\n",
       "    <tr>\n",
       "      <td>1</td>\n",
       "      <td>1</td>\n",
       "      <td>2</td>\n",
       "      <td>gary jimenez</td>\n",
       "      <td>captain iii (police department)</td>\n",
       "      <td>155966.02</td>\n",
       "      <td>245131.88</td>\n",
       "      <td>137811.38</td>\n",
       "      <td>NaN</td>\n",
       "      <td>538909.28</td>\n",
       "      <td>538909.28</td>\n",
       "      <td>2011</td>\n",
       "      <td>NaN</td>\n",
       "      <td>San Francisco</td>\n",
       "      <td>NaN</td>\n",
       "      <td>m</td>\n",
       "    </tr>\n",
       "    <tr>\n",
       "      <td>2</td>\n",
       "      <td>2</td>\n",
       "      <td>3</td>\n",
       "      <td>albert pardini</td>\n",
       "      <td>captain iii (police department)</td>\n",
       "      <td>212739.13</td>\n",
       "      <td>106088.18</td>\n",
       "      <td>16452.6</td>\n",
       "      <td>NaN</td>\n",
       "      <td>335279.91</td>\n",
       "      <td>335279.91</td>\n",
       "      <td>2011</td>\n",
       "      <td>NaN</td>\n",
       "      <td>San Francisco</td>\n",
       "      <td>NaN</td>\n",
       "      <td>m</td>\n",
       "    </tr>\n",
       "    <tr>\n",
       "      <td>3</td>\n",
       "      <td>3</td>\n",
       "      <td>4</td>\n",
       "      <td>christopher chong</td>\n",
       "      <td>wire rope cable maintenance mechanic</td>\n",
       "      <td>77916</td>\n",
       "      <td>56120.71</td>\n",
       "      <td>198306.9</td>\n",
       "      <td>NaN</td>\n",
       "      <td>332343.61</td>\n",
       "      <td>332343.61</td>\n",
       "      <td>2011</td>\n",
       "      <td>NaN</td>\n",
       "      <td>San Francisco</td>\n",
       "      <td>NaN</td>\n",
       "      <td>m</td>\n",
       "    </tr>\n",
       "    <tr>\n",
       "      <td>4</td>\n",
       "      <td>4</td>\n",
       "      <td>5</td>\n",
       "      <td>patrick gardner</td>\n",
       "      <td>deputy chief of department,(fire department)</td>\n",
       "      <td>134401.6</td>\n",
       "      <td>9737</td>\n",
       "      <td>182234.59</td>\n",
       "      <td>NaN</td>\n",
       "      <td>326373.19</td>\n",
       "      <td>326373.19</td>\n",
       "      <td>2011</td>\n",
       "      <td>NaN</td>\n",
       "      <td>San Francisco</td>\n",
       "      <td>NaN</td>\n",
       "      <td>m</td>\n",
       "    </tr>\n",
       "  </tbody>\n",
       "</table>\n",
       "</div>"
      ],
      "text/plain": [
       "   Unnamed: 0  Id      Employee Name  \\\n",
       "0           0   1     nathaniel ford   \n",
       "1           1   2       gary jimenez   \n",
       "2           2   3     albert pardini   \n",
       "3           3   4  christopher chong   \n",
       "4           4   5    patrick gardner   \n",
       "\n",
       "                                         JobTitle    BasePay OvertimePay  \\\n",
       "0  general manager-metropolitan transit authority  167411.18           0   \n",
       "1                 captain iii (police department)  155966.02   245131.88   \n",
       "2                 captain iii (police department)  212739.13   106088.18   \n",
       "3            wire rope cable maintenance mechanic      77916    56120.71   \n",
       "4    deputy chief of department,(fire department)   134401.6        9737   \n",
       "\n",
       "    OtherPay Benefits   TotalPay  TotalPayBenefits  Year  Notes  \\\n",
       "0  400184.25      NaN  567595.43         567595.43  2011    NaN   \n",
       "1  137811.38      NaN  538909.28         538909.28  2011    NaN   \n",
       "2    16452.6      NaN  335279.91         335279.91  2011    NaN   \n",
       "3   198306.9      NaN  332343.61         332343.61  2011    NaN   \n",
       "4  182234.59      NaN  326373.19         326373.19  2011    NaN   \n",
       "\n",
       "          Agency Status gender  \n",
       "0  San Francisco    NaN      m  \n",
       "1  San Francisco    NaN      m  \n",
       "2  San Francisco    NaN      m  \n",
       "3  San Francisco    NaN      m  \n",
       "4  San Francisco    NaN      m  "
      ]
     },
     "execution_count": 3,
     "metadata": {},
     "output_type": "execute_result"
    }
   ],
   "source": [
    "# check the head of the dataframe\n",
    "\n",
    "sal_df.head()"
   ]
  },
  {
   "cell_type": "code",
   "execution_count": 4,
   "metadata": {},
   "outputs": [
    {
     "data": {
      "text/html": [
       "<div>\n",
       "<style scoped>\n",
       "    .dataframe tbody tr th:only-of-type {\n",
       "        vertical-align: middle;\n",
       "    }\n",
       "\n",
       "    .dataframe tbody tr th {\n",
       "        vertical-align: top;\n",
       "    }\n",
       "\n",
       "    .dataframe thead th {\n",
       "        text-align: right;\n",
       "    }\n",
       "</style>\n",
       "<table border=\"1\" class=\"dataframe\">\n",
       "  <thead>\n",
       "    <tr style=\"text-align: right;\">\n",
       "      <th></th>\n",
       "      <th>Unnamed: 0</th>\n",
       "      <th>Id</th>\n",
       "      <th>Employee Name</th>\n",
       "      <th>JobTitle</th>\n",
       "      <th>BasePay</th>\n",
       "      <th>OvertimePay</th>\n",
       "      <th>OtherPay</th>\n",
       "      <th>Benefits</th>\n",
       "      <th>TotalPay</th>\n",
       "      <th>TotalPayBenefits</th>\n",
       "      <th>Year</th>\n",
       "      <th>Agency</th>\n",
       "      <th>Status</th>\n",
       "      <th>gender</th>\n",
       "    </tr>\n",
       "  </thead>\n",
       "  <tbody>\n",
       "    <tr>\n",
       "      <td>0</td>\n",
       "      <td>0</td>\n",
       "      <td>1</td>\n",
       "      <td>nathaniel ford</td>\n",
       "      <td>general manager-metropolitan transit authority</td>\n",
       "      <td>167411.18</td>\n",
       "      <td>0</td>\n",
       "      <td>400184.25</td>\n",
       "      <td>NaN</td>\n",
       "      <td>567595.43</td>\n",
       "      <td>567595.43</td>\n",
       "      <td>2011</td>\n",
       "      <td>San Francisco</td>\n",
       "      <td>NaN</td>\n",
       "      <td>m</td>\n",
       "    </tr>\n",
       "    <tr>\n",
       "      <td>1</td>\n",
       "      <td>1</td>\n",
       "      <td>2</td>\n",
       "      <td>gary jimenez</td>\n",
       "      <td>captain iii (police department)</td>\n",
       "      <td>155966.02</td>\n",
       "      <td>245131.88</td>\n",
       "      <td>137811.38</td>\n",
       "      <td>NaN</td>\n",
       "      <td>538909.28</td>\n",
       "      <td>538909.28</td>\n",
       "      <td>2011</td>\n",
       "      <td>San Francisco</td>\n",
       "      <td>NaN</td>\n",
       "      <td>m</td>\n",
       "    </tr>\n",
       "    <tr>\n",
       "      <td>2</td>\n",
       "      <td>2</td>\n",
       "      <td>3</td>\n",
       "      <td>albert pardini</td>\n",
       "      <td>captain iii (police department)</td>\n",
       "      <td>212739.13</td>\n",
       "      <td>106088.18</td>\n",
       "      <td>16452.6</td>\n",
       "      <td>NaN</td>\n",
       "      <td>335279.91</td>\n",
       "      <td>335279.91</td>\n",
       "      <td>2011</td>\n",
       "      <td>San Francisco</td>\n",
       "      <td>NaN</td>\n",
       "      <td>m</td>\n",
       "    </tr>\n",
       "    <tr>\n",
       "      <td>3</td>\n",
       "      <td>3</td>\n",
       "      <td>4</td>\n",
       "      <td>christopher chong</td>\n",
       "      <td>wire rope cable maintenance mechanic</td>\n",
       "      <td>77916</td>\n",
       "      <td>56120.71</td>\n",
       "      <td>198306.9</td>\n",
       "      <td>NaN</td>\n",
       "      <td>332343.61</td>\n",
       "      <td>332343.61</td>\n",
       "      <td>2011</td>\n",
       "      <td>San Francisco</td>\n",
       "      <td>NaN</td>\n",
       "      <td>m</td>\n",
       "    </tr>\n",
       "    <tr>\n",
       "      <td>4</td>\n",
       "      <td>4</td>\n",
       "      <td>5</td>\n",
       "      <td>patrick gardner</td>\n",
       "      <td>deputy chief of department,(fire department)</td>\n",
       "      <td>134401.6</td>\n",
       "      <td>9737</td>\n",
       "      <td>182234.59</td>\n",
       "      <td>NaN</td>\n",
       "      <td>326373.19</td>\n",
       "      <td>326373.19</td>\n",
       "      <td>2011</td>\n",
       "      <td>San Francisco</td>\n",
       "      <td>NaN</td>\n",
       "      <td>m</td>\n",
       "    </tr>\n",
       "    <tr>\n",
       "      <td>...</td>\n",
       "      <td>...</td>\n",
       "      <td>...</td>\n",
       "      <td>...</td>\n",
       "      <td>...</td>\n",
       "      <td>...</td>\n",
       "      <td>...</td>\n",
       "      <td>...</td>\n",
       "      <td>...</td>\n",
       "      <td>...</td>\n",
       "      <td>...</td>\n",
       "      <td>...</td>\n",
       "      <td>...</td>\n",
       "      <td>...</td>\n",
       "      <td>...</td>\n",
       "    </tr>\n",
       "    <tr>\n",
       "      <td>148649</td>\n",
       "      <td>148649</td>\n",
       "      <td>148650</td>\n",
       "      <td>roy i</td>\n",
       "      <td>custodian</td>\n",
       "      <td>0</td>\n",
       "      <td>0</td>\n",
       "      <td>0</td>\n",
       "      <td>0</td>\n",
       "      <td>0.00</td>\n",
       "      <td>0.00</td>\n",
       "      <td>2014</td>\n",
       "      <td>San Francisco</td>\n",
       "      <td>PT</td>\n",
       "      <td>m</td>\n",
       "    </tr>\n",
       "    <tr>\n",
       "      <td>148650</td>\n",
       "      <td>148650</td>\n",
       "      <td>148651</td>\n",
       "      <td>not provided</td>\n",
       "      <td>not provided</td>\n",
       "      <td>Not Provided</td>\n",
       "      <td>Not Provided</td>\n",
       "      <td>Not Provided</td>\n",
       "      <td>Not Provided</td>\n",
       "      <td>0.00</td>\n",
       "      <td>0.00</td>\n",
       "      <td>2014</td>\n",
       "      <td>San Francisco</td>\n",
       "      <td>NaN</td>\n",
       "      <td>m</td>\n",
       "    </tr>\n",
       "    <tr>\n",
       "      <td>148651</td>\n",
       "      <td>148651</td>\n",
       "      <td>148652</td>\n",
       "      <td>not provided</td>\n",
       "      <td>not provided</td>\n",
       "      <td>Not Provided</td>\n",
       "      <td>Not Provided</td>\n",
       "      <td>Not Provided</td>\n",
       "      <td>Not Provided</td>\n",
       "      <td>0.00</td>\n",
       "      <td>0.00</td>\n",
       "      <td>2014</td>\n",
       "      <td>San Francisco</td>\n",
       "      <td>NaN</td>\n",
       "      <td>m</td>\n",
       "    </tr>\n",
       "    <tr>\n",
       "      <td>148652</td>\n",
       "      <td>148652</td>\n",
       "      <td>148653</td>\n",
       "      <td>not provided</td>\n",
       "      <td>not provided</td>\n",
       "      <td>Not Provided</td>\n",
       "      <td>Not Provided</td>\n",
       "      <td>Not Provided</td>\n",
       "      <td>Not Provided</td>\n",
       "      <td>0.00</td>\n",
       "      <td>0.00</td>\n",
       "      <td>2014</td>\n",
       "      <td>San Francisco</td>\n",
       "      <td>NaN</td>\n",
       "      <td>m</td>\n",
       "    </tr>\n",
       "    <tr>\n",
       "      <td>148653</td>\n",
       "      <td>148653</td>\n",
       "      <td>148654</td>\n",
       "      <td>joe lopez</td>\n",
       "      <td>counselor, log cabin ranch</td>\n",
       "      <td>0</td>\n",
       "      <td>0</td>\n",
       "      <td>-618.13</td>\n",
       "      <td>0</td>\n",
       "      <td>-618.13</td>\n",
       "      <td>-618.13</td>\n",
       "      <td>2014</td>\n",
       "      <td>San Francisco</td>\n",
       "      <td>PT</td>\n",
       "      <td>m</td>\n",
       "    </tr>\n",
       "  </tbody>\n",
       "</table>\n",
       "<p>148654 rows × 14 columns</p>\n",
       "</div>"
      ],
      "text/plain": [
       "        Unnamed: 0      Id      Employee Name  \\\n",
       "0                0       1     nathaniel ford   \n",
       "1                1       2       gary jimenez   \n",
       "2                2       3     albert pardini   \n",
       "3                3       4  christopher chong   \n",
       "4                4       5    patrick gardner   \n",
       "...            ...     ...                ...   \n",
       "148649      148649  148650              roy i   \n",
       "148650      148650  148651       not provided   \n",
       "148651      148651  148652       not provided   \n",
       "148652      148652  148653       not provided   \n",
       "148653      148653  148654          joe lopez   \n",
       "\n",
       "                                              JobTitle       BasePay  \\\n",
       "0       general manager-metropolitan transit authority     167411.18   \n",
       "1                      captain iii (police department)     155966.02   \n",
       "2                      captain iii (police department)     212739.13   \n",
       "3                 wire rope cable maintenance mechanic         77916   \n",
       "4         deputy chief of department,(fire department)      134401.6   \n",
       "...                                                ...           ...   \n",
       "148649                                       custodian             0   \n",
       "148650                                    not provided  Not Provided   \n",
       "148651                                    not provided  Not Provided   \n",
       "148652                                    not provided  Not Provided   \n",
       "148653                      counselor, log cabin ranch             0   \n",
       "\n",
       "         OvertimePay      OtherPay      Benefits   TotalPay  TotalPayBenefits  \\\n",
       "0                  0     400184.25           NaN  567595.43         567595.43   \n",
       "1          245131.88     137811.38           NaN  538909.28         538909.28   \n",
       "2          106088.18       16452.6           NaN  335279.91         335279.91   \n",
       "3           56120.71      198306.9           NaN  332343.61         332343.61   \n",
       "4               9737     182234.59           NaN  326373.19         326373.19   \n",
       "...              ...           ...           ...        ...               ...   \n",
       "148649             0             0             0       0.00              0.00   \n",
       "148650  Not Provided  Not Provided  Not Provided       0.00              0.00   \n",
       "148651  Not Provided  Not Provided  Not Provided       0.00              0.00   \n",
       "148652  Not Provided  Not Provided  Not Provided       0.00              0.00   \n",
       "148653             0       -618.13             0    -618.13           -618.13   \n",
       "\n",
       "        Year         Agency Status gender  \n",
       "0       2011  San Francisco    NaN      m  \n",
       "1       2011  San Francisco    NaN      m  \n",
       "2       2011  San Francisco    NaN      m  \n",
       "3       2011  San Francisco    NaN      m  \n",
       "4       2011  San Francisco    NaN      m  \n",
       "...      ...            ...    ...    ...  \n",
       "148649  2014  San Francisco     PT      m  \n",
       "148650  2014  San Francisco    NaN      m  \n",
       "148651  2014  San Francisco    NaN      m  \n",
       "148652  2014  San Francisco    NaN      m  \n",
       "148653  2014  San Francisco     PT      m  \n",
       "\n",
       "[148654 rows x 14 columns]"
      ]
     },
     "execution_count": 4,
     "metadata": {},
     "output_type": "execute_result"
    }
   ],
   "source": [
    "#Drop Notse column as it is empty\n",
    "\n",
    "sal_df.drop(columns=['Notes'])"
   ]
  },
  {
   "cell_type": "code",
   "execution_count": 6,
   "metadata": {},
   "outputs": [
    {
     "name": "stdout",
     "output_type": "stream",
     "text": [
      "                                              JobTitle  TotalPayBenefits\n",
      "0       general manager-metropolitan transit authority         567595.43\n",
      "1                      captain iii (police department)         538909.28\n",
      "110531                                  deputy chief 3         510732.68\n",
      "110532                               asst med examiner         479652.21\n",
      "110533                        chief investment officer         436224.36\n"
     ]
    }
   ],
   "source": [
    "#Exploratory data analysis\n",
    "#Top 5 highest paying jobs\n",
    "\n",
    "print(sal_df[[ 'JobTitle' ,'TotalPayBenefits']].sort_values('TotalPayBenefits', ascending=False).nlargest(5,'TotalPayBenefits'))"
   ]
  },
  {
   "cell_type": "code",
   "execution_count": 8,
   "metadata": {},
   "outputs": [
    {
     "data": {
      "text/plain": [
       "Text(0, 0.5, 'Salaries')"
      ]
     },
     "execution_count": 8,
     "metadata": {},
     "output_type": "execute_result"
    },
    {
     "data": {
      "image/png": "[encoded data removed]",
      "text/plain": [
       "<Figure size 432x288 with 1 Axes>"
      ]
     },
     "metadata": {
      "needs_background": "light"
     },
     "output_type": "display_data"
    }
   ],
   "source": [
    "#Average salary over the years\n",
    "avg_sal_list = []\n",
    "lis = [2011,2012,2013,2014]\n",
    "    \n",
    "for itr in range(len(lis)):\n",
    "    temp = sal_df[sal_df['Year']==lis[itr]]['TotalPayBenefits'].mean()\n",
    "    avg_sal_list.append(temp)\n",
    "       \n",
    "        \n",
    "ax = plt.subplot()\n",
    "    \n",
    "ax.bar(lis,avg_sal_list,width=0.4)\n",
    "ax.spines['top'].set_visible(False)\n",
    "ax.spines['right'].set_visible(False)\n",
    "ax.spines['left'].set_visible(False)\n",
    "ax.spines['bottom'].set_color('#DDDDDD')\n",
    "    \n",
    "ax.tick_params(bottom=False, left=False)\n",
    "    \n",
    "ax.set_axisbelow(True)\n",
    "ax.yaxis.grid(True, color='#EAEAEA')\n",
    "ax.xaxis.grid(False)\n",
    "ax.set_xticks(lis)\n",
    "ax.set_xlabel('Years')\n",
    "ax.set_ylabel('Salaries')"
   ]
  },
  {
   "cell_type": "code",
   "execution_count": 10,
   "metadata": {},
   "outputs": [
    {
     "name": "stdout",
     "output_type": "stream",
     "text": [
      "Maximum Salary Year wise\n",
      " Year\n",
      "2011    567595.43\n",
      "2012    407274.78\n",
      "2013    425815.28\n",
      "2014    510732.68\n",
      "Name: TotalPayBenefits, dtype: float64\n"
     ]
    }
   ],
   "source": [
    "#Maximum salary yearwise\n",
    "print(\"Maximum Salary Year wise\\n\", sal_df.groupby('Year')['TotalPayBenefits'].max())"
   ]
  },
  {
   "cell_type": "code",
   "execution_count": 11,
   "metadata": {},
   "outputs": [
    {
     "name": "stdout",
     "output_type": "stream",
     "text": [
      "Top 5 common jobs over years 2011-2014 Year                              \n",
      "2011  transit operator                2388\n",
      "      special nurse                   1402\n",
      "      registered nurse                1219\n",
      "      custodian                        796\n",
      "      firefighter                      794\n",
      "2012  transit operator                2262\n",
      "      special nurse                   1466\n",
      "      registered nurse                1271\n",
      "      police officer 3                 864\n",
      "      custodian                        825\n",
      "2013  transit operator                2295\n",
      "      special nurse                   1445\n",
      "      registered nurse                1231\n",
      "      public svc aide-public works     859\n",
      "      custodian                        789\n",
      "2014  transit operator                2479\n",
      "      special nurse                   1478\n",
      "      registered nurse                1234\n",
      "      public svc aide-public works     916\n",
      "      firefighter                      815\n",
      "Name: JobTitle, dtype: int64\n",
      "Top 5 rare jobs over years 2011-2014 Year                                                \n",
      "2011  court administrative secretary                    1\n",
      "      director, probation services                      1\n",
      "      area supervisor, parks, squares and facilities    1\n",
      "      legislative assistant, city attorney's office     1\n",
      "      shelter office assistant supervisor               1\n",
      "2012  operating room nurse                              1\n",
      "      sr general utility mechanic                       1\n",
      "      director, juvenile hall                           1\n",
      "      mgr, unified family court svcs                    1\n",
      "      cfdntal sctry to distric atty                     1\n",
      "2013  rent board supervisor                             1\n",
      "      emergency services coord i                        1\n",
      "      mental health hearing officer                     1\n",
      "      mayoral staff vii                                 1\n",
      "      court reporter coordinator                        1\n",
      "2014  rent board supervisor                             1\n",
      "      electroencephalograph tech 1                      1\n",
      "      mgr museum security services                      1\n",
      "      plumber supervisor 2                              1\n",
      "      senior transcriber typist                         1\n",
      "Name: JobTitle, dtype: int64\n"
     ]
    }
   ],
   "source": [
    "#Most common/rare jobs over years\n",
    "print(\"Top 5 common jobs over years 2011-2014\",sal_df.groupby('Year')['JobTitle'].apply(lambda x: x.value_counts().nlargest(5)))\n",
    "print(\"Top 5 rare jobs over years 2011-2014\",sal_df.groupby('Year')['JobTitle'].apply(lambda x: x.value_counts().nsmallest(5)))"
   ]
  },
  {
   "cell_type": "code",
   "execution_count": 12,
   "metadata": {},
   "outputs": [
    {
     "data": {
      "text/plain": [
       "Text(0, 0.5, 'Number of jobs')"
      ]
     },
     "execution_count": 12,
     "metadata": {},
     "output_type": "execute_result"
    },
    {
     "data": {
      "image/png": "[encoded data removed]",
      "text/plain": [
       "<Figure size 432x288 with 1 Axes>"
      ]
     },
     "metadata": {
      "needs_background": "light"
     },
     "output_type": "display_data"
    }
   ],
   "source": [
    "#Job rate yearwise\n",
    "#print(sal_df.groupby('Year')['JobTitle'].count())\n",
    "num_jobs = []\n",
    "for itr in range(len(lis)):\n",
    "    temp = sal_df[sal_df['Year']==lis[itr]]['JobTitle'].count()\n",
    "    num_jobs.append(temp)\n",
    "\n",
    "ax = plt.subplot()\n",
    "ax.plot(lis,num_jobs,color='blue')\n",
    "    \n",
    "ax.spines['top'].set_visible(False)\n",
    "ax.spines['right'].set_visible(False)\n",
    "ax.spines['left'].set_color('#DDDDDD')\n",
    "ax.spines['bottom'].set_color('#DDDDDD')\n",
    "    \n",
    "ax.set_xticks(lis)\n",
    "ax.set_xlabel('Years')\n",
    "ax.set_ylabel('Number of jobs')"
   ]
  },
  {
   "cell_type": "code",
   "execution_count": 15,
   "metadata": {},
   "outputs": [
    {
     "data": {
      "image/png": "[encoded data removed]",
      "text/plain": [
       "<Figure size 432x288 with 1 Axes>"
      ]
     },
     "metadata": {
      "needs_background": "light"
     },
     "output_type": "display_data"
    }
   ],
   "source": [
    "#Comparison of salaries between gender\n",
    "import numpy as np\n",
    "gender_df = pd.DataFrame(sal_df.groupby(['gender','Year'])['TotalPayBenefits'].mean(),columns=['TotalPayBenefits']).reset_index() \n",
    "male_list = gender_df[(gender_df['gender'] == 'm') & (gender_df['Year'] >= 2011) & (gender_df['Year'] <= 2014)]['TotalPayBenefits'].tolist()\n",
    "female_list = gender_df[(gender_df['gender'] == 'f') & (gender_df['Year'] >= 2011) & (gender_df['Year'] <= 2014)]['TotalPayBenefits'].tolist()\n",
    "    \n",
    "barWidth = 0.15\n",
    "groups = 4\n",
    "\n",
    "r = np.arange(groups)\n",
    "    \n",
    "plt.bar(r,male_list,color='b',width=barWidth,edgecolor='white', label='Male')\n",
    "plt.bar(r+barWidth,female_list,color='g',width=barWidth,edgecolor='white', label='Female')\n",
    "    \n",
    "plt.xlabel('Year')\n",
    "plt.ylabel('Salaires')\n",
    "plt.title('Genderwise salaries over years')\n",
    "plt.xticks(r + barWidth,('2011','2012','2013','2014'))\n",
    "plt.legend()\n",
    "plt.show()"
   ]
  },
  {
   "cell_type": "code",
   "execution_count": 16,
   "metadata": {},
   "outputs": [
    {
     "data": {
      "image/png": "[encoded data removed]",
      "text/plain": [
       "<Figure size 432x288 with 1 Axes>"
      ]
     },
     "metadata": {},
     "output_type": "display_data"
    }
   ],
   "source": [
    "#Employees classification based on Salaries \n",
    "salaries_list = []\n",
    "salaries_list.append(((sal_df[(sal_df['TotalPayBenefits'] >0) & (sal_df['TotalPayBenefits'] <=100000)]['Employee Name'].count())/148654)*100)\n",
    "salaries_list.append(((sal_df[(sal_df['TotalPayBenefits'] >100000) & (sal_df['TotalPayBenefits'] <=200000)]['Employee Name'].count())/148654)*100)\n",
    "salaries_list.append(((sal_df[(sal_df['TotalPayBenefits'] >200000)]['Employee Name'].count())/148654)*100)\n",
    "    \n",
    "lables = ['<1L','1L-2L','>2L']\n",
    "explode = (0,0,0)\n",
    "    \n",
    "fig1, ax1 = plt.subplots()\n",
    "ax1.pie(salaries_list, explode=explode, labels=lables, autopct='%1.1f%%',\n",
    "shadow=True, startangle=90)\n",
    "ax1.axis('equal')\n",
    "plt.show()"
   ]
  },
  {
   "cell_type": "code",
   "execution_count": 18,
   "metadata": {},
   "outputs": [
    {
     "data": {
      "image/png": "[encoded data removed]",
      "text/plain": [
       "<Figure size 432x288 with 1 Axes>"
      ]
     },
     "metadata": {},
     "output_type": "display_data"
    }
   ],
   "source": [
    "#How many jobs pay salary benefits other than base pay\n",
    "\n",
    "#Fill 'Not Provided' values in the oay related columns with 0\n",
    "sal_df['BasePay'].replace({'Not Provided': '0'},inplace=True)\n",
    "sal_df['OvertimePay'].replace({'Not Provided': '0'},inplace=True)\n",
    "sal_df['OtherPay'].replace({'Not Provided': '0'},inplace=True)\n",
    "sal_df['Benefits'].replace({'Not Provided': '0'},inplace=True)\n",
    "sal_df = sal_df.astype({\"BasePay\": float,\"OvertimePay\": float,\n",
    "    \"OtherPay\": float,\"Benefits\": float})\n",
    "    \n",
    "bpay_list = []\n",
    "bpay_list.append(((sal_df[(sal_df['OvertimePay']!=0) & (sal_df['OtherPay']!=0)\n",
    "    & (sal_df['Benefits']!=0)]['JobTitle'].count())/148654)*100)\n",
    "bpay_list.append((100-((sal_df[(sal_df['OvertimePay']!=0) & (sal_df['OtherPay']!=0)\n",
    "    &(sal_df['Benefits']!=0)]['JobTitle'].count())/148654)*100))\n",
    "    \n",
    "lables2 = ['Getting Salary benefits','Not getting  Salary benefits']\n",
    "explode2 = (0,0)\n",
    "    \n",
    "fig, ax = plt.subplots()\n",
    "ax.pie(bpay_list, explode=explode2, labels=lables2, autopct='%1.1f%%',\n",
    "        shadow=True, startangle=90)\n",
    "ax.axis('equal')\n",
    "\n",
    "plt.show()"
   ]
  },
  {
   "cell_type": "code",
   "execution_count": 20,
   "metadata": {},
   "outputs": [
    {
     "data": {
      "text/plain": [
       "Text(0.5, 1, 'Correlation between pays')"
      ]
     },
     "execution_count": 20,
     "metadata": {},
     "output_type": "execute_result"
    },
    {
     "data": {
      "image/png": "[encoded data removed]",
      "text/plain": [
       "<Figure size 720x360 with 2 Axes>"
      ]
     },
     "metadata": {
      "needs_background": "light"
     },
     "output_type": "display_data"
    }
   ],
   "source": [
    "#Check if there is any correlation between Base pay and other salary perks\n",
    "plt.subplots(figsize=(10,5))\n",
    "sns.heatmap(sal_df[['BasePay','OvertimePay','OtherPay','Benefits']].corr(),annot=True)\n",
    "plt.title('Correlation between pays')"
   ]
  },
  {
   "cell_type": "code",
   "execution_count": 23,
   "metadata": {},
   "outputs": [
    {
     "name": "stdout",
     "output_type": "stream",
     "text": [
      "Number of jobs which has benefits pays higher than base pay: 461\n"
     ]
    }
   ],
   "source": [
    "#Identifying jobs which has better pay structure\n",
    "sal_df['SalPerks'] = sal_df['OvertimePay'] + sal_df['OtherPay'] + sal_df['Benefits']\n",
    "print(\"Number of jobs which has benefits pays higher than base pay:\",sal_df[sal_df['SalPerks'] > sal_df['BasePay']]['JobTitle'].nunique())"
   ]
  }
 ],
 "metadata": {
  "kernelspec": {
   "display_name": "Python 3",
   "language": "python",
   "name": "python3"
  },
  "language_info": {
   "codemirror_mode": {
    "name": "ipython",
    "version": 3
   },
   "file_extension": ".py",
   "mimetype": "text/x-python",
   "name": "python",
   "nbconvert_exporter": "python",
   "pygments_lexer": "ipython3",
   "version": "3.7.4"
  }
 },
 "nbformat": 4,
 "nbformat_minor": 2
}
